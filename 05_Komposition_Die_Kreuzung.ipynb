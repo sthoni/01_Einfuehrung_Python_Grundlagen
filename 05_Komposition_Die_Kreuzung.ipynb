{
 "cells": [
  {
   "cell_type": "markdown",
   "metadata": {},
   "source": [
    "# OOP für Fortgeschrittene: Wenn Objekte zusammenarbeiten (Komposition)\n",
    "\n",
    "Bisher haben wir Objekte wie unsere `Ampel` immer isoliert betrachtet. In der echten Welt (und in echter Software) arbeiten Objekte aber ständig zusammen. Diesen wichtigen Schritt schauen wir uns heute an.\n",
    "\n",
    "Wir werden lernen, wie man ein komplexes System (eine Kreuzung) aus einfacheren Objekten (zwei Ampeln) zusammensetzt. Dieses Prinzip nennt man **Komposition**.\n",
    "\n",
    "**Ziel:** Du baust eine `Kreuzung`, die zwei `Ampel`-Objekte besitzt und deren Schaltung so koordiniert, dass es nie zu einem Unfall kommt."
   ]
  },
  {
   "cell_type": "markdown",
   "metadata": {},
   "source": [
    "## 1. Unsere Werkzeuge: Die `Ampel`-Klasse\n",
    "\n",
    "Zuerst brauchen wir unseren bewährten Bauplan für eine Ampel. Wir benutzen die Version, die mit Zuständen als Text (`'rot'`, `'gruen'`, etc.) arbeitet, da sie für uns Menschen leichter lesbar ist.\n",
    "\n",
    "*(Didaktisches Prinzip: Shift-Enter for the win - Führe die nächste Zelle aus, um unsere `Ampel`-Klasse bereitzustellen. Du musst den Code hier nicht ändern, nur verstehen, was er tut.)*"
   ]
  },
  {
   "cell_type": "code",
   "execution_count": null,
   "metadata": {},
   "outputs": [],
   "source": [
    "class Ampel:\n",
    "    def __init__(self, startzustand='rot'):\n",
    "        self.zustand = startzustand\n",
    "\n",
    "    def schalten(self):\n",
    "        if self.zustand == 'rot':        self.zustand = 'rotgelb'\n",
    "        elif self.zustand == 'rotgelb':  self.zustand = 'gruen'\n",
    "        elif self.zustand == 'gruen':    self.zustand = 'gelb'\n",
    "        elif self.zustand == 'gelb':     self.zustand = 'rot'\n",
    "\n",
    "    def getZustand(self):\n",
    "        return self.zustand\n",
    "    \n",
    "    # Hilfsfunktion für eine schönere Ausgabe\n",
    "    def __str__(self):\n",
    "        return f\"Ampel ist [{self.zustand.upper()}]\"\n",
    "\n",
    "# Kleiner Test: Funktioniert unsere Ampel noch?\n",
    "test_ampel = Ampel()\n",
    "print(test_ampel)\n",
    "test_ampel.schalten()\n",
    "print(test_ampel)"
   ]
  },
  {
   "cell_type": "markdown",
   "metadata": {},
   "source": [
    "## 2. Die Idee: Eine Kreuzung \"hat\" zwei Ampeln\n",
    "\n",
    "Eine Kreuzung ist mehr als nur eine Ampel. In unserem Modell **hat** eine Kreuzung eine Ampel für die Hauptstraße und eine für die Querstraße. Das ist die \"hat-eine\"-Beziehung der Komposition.\n",
    "\n",
    "*(Didaktisches Prinzip: Coding as translation - Wir übersetzen die Idee direkt in einen Klassen-Bauplan.)*\n",
    "\n",
    "**Deine Aufgabe:** Vervollständige den Konstruktor (`__init__`) der `Kreuzung`-Klasse. Er soll zwei `Ampel`-Objekte erstellen und sie in den Attributen `self.ampel_hauptstrasse` und `self.ampel_querstrasse` speichern."
   ]
  },
  {
   "cell_type": "code",
   "execution_count": null,
   "metadata": {},
   "outputs": [],
   "source": [
    "class Kreuzung:\n",
    "    def __init__(self):\n",
    "        print(\"Eine neue Kreuzung wird gebaut...\")\n",
    "        # TODO: Erstelle hier ein Ampel-Objekt für die Hauptstraße.\n",
    "        # Wichtig: Die Hauptstraße soll mit 'gruen' starten!\n",
    "        self.ampel_hauptstrasse = None # Ersetze None durch ein Ampel-Objekt\n",
    "        \n",
    "        # TODO: Erstelle hier ein Ampel-Objekt für die Querstraße.\n",
    "        # Diese soll wie gewohnt mit 'rot' starten.\n",
    "        self.ampel_querstrasse = None # Ersetze None durch ein Ampel-Objekt\n",
    "        \n",
    "    def getZustaende(self):\n",
    "        print(f\"Hauptstraße: {self.ampel_hauptstrasse} | Querstraße: {self.ampel_querstrasse}\")"
   ]
  },
  {
   "cell_type": "markdown",
   "metadata": {},
   "source": [
    "#### Test für den Konstruktor\n",
    "\n",
    "Führe die nächste Zelle aus. Wenn du alles richtig gemacht hast, sollte eine Kreuzung erstellt und ihr Anfangszustand (Grün / Rot) angezeigt werden."
   ]
  },
  {
   "cell_type": "code",
   "execution_count": null,
   "metadata": {},
   "outputs": [],
   "source": [
    "try:\n",
    "    meine_kreuzung = Kreuzung()\n",
    "    meine_kreuzung.getZustaende()\n",
    "    if meine_kreuzung.ampel_hauptstrasse.getZustand() != 'gruen':\n",
    "        print(\"FEHLER: Die Ampel der Hauptstraße startet nicht bei Grün!\")\n",
    "except (AttributeError, TypeError):\n",
    "    print(\"FEHLER: Hast du die Ampel-Objekte korrekt in den Attributen gespeichert?\")"
   ]
  },
  {
   "cell_type": "markdown",
   "metadata": {},
   "source": [
    "## 3. Der Dirigent: Die Kreuzung schaltet\n",
    "\n",
    "Die Kreuzung ist der \"Dirigent\". Ihre `schalten()`-Methode muss dafür sorgen, dass die beiden Ampeln koordiniert geschaltet werden.\n",
    "\n",
    "*(Didaktisches Prinzip: Target Practice - Du implementierst den Kern der Logik in einer einzelnen Methode.)*\n",
    "\n",
    "**Regel:** Eine Ampel darf nur dann auf `grün` schalten, wenn die andere Ampel `rot` anzeigt.\n",
    "\n",
    "**Deine Aufgabe:** Implementiere die `schalten()`-Methode in der `Kreuzung`-Klasse. Sie soll beide Ampeln weiterschalten. Füge eine Sicherheitsprüfung hinzu!"
   ]
  },
  {
   "cell_type": "code",
   "execution_count": null,
   "metadata": {},
   "outputs": [],
   "source": [
    "# Wir kopieren die Klasse hierher, damit du sie leichter bearbeiten kannst\n",
    "class Kreuzung:\n",
    "    def __init__(self):\n",
    "        self.ampel_hauptstrasse = Ampel(startzustand='gruen')\n",
    "        self.ampel_querstrasse = Ampel(startzustand='rot')\n",
    "        \n",
    "    def getZustaende(self):\n",
    "        print(f\"Hauptstraße: {self.ampel_hauptstrasse} | Querstraße: {self.ampel_querstrasse}\")\n",
    "        \n",
    "    def schalten(self):\n",
    "        print(\"\\n...Kreuzung schaltet...\")\n",
    "        # Eine einfache Schaltlogik: Wir schalten einfach beide Ampeln weiter.\n",
    "        # In einer echten Kreuzung wäre die Logik komplexer!\n",
    "        \n",
    "        # TODO: Rufe die schalten()-Methode für BEIDE Ampeln auf.\n",
    "        # Dein Code hier:\n",
    "        \n",
    "        \n",
    "        # TODO: Sicherheitscheck! Prüfe, ob BEIDE Ampeln auf 'gruen' stehen.\n",
    "        # Falls ja, gib eine laute WARNUNG aus!\n",
    "        # Dein Code hier:\n"
   ]
  },
  {
   "cell_type": "markdown",
   "metadata": {},
   "source": [
    "#### Test der kompletten Kreuzung\n",
    "\n",
    "Führe die Zelle aus, um deine Kreuzung zu simulieren. Beobachte, wie sich die Zustände der beiden Ampeln verändern."
   ]
  },
  {
   "cell_type": "code",
   "execution_count": null,
   "metadata": {},
   "outputs": [],
   "source": [
    "try:\n",
    "    test_kreuzung = Kreuzung()\n",
    "    test_kreuzung.getZustaende()\n",
    "    \n",
    "    for _ in range(8):\n",
    "        test_kreuzung.schalten()\n",
    "        test_kreuzung.getZustaende()\n",
    "except Exception as e:\n",
    "    print(f\"Ein Fehler ist aufgetreten: {e}\")"
   ]
  },
  {
   "cell_type": "markdown",
   "metadata": {},
   "source": [
    "## Super gemacht!\n",
    "\n",
    "Du hast gesehen, wie man aus einfachen Bausteinen (`Ampel`) ein komplexeres System (`Kreuzung`) baut. Dieses Prinzip der Komposition ist fundamental für die gesamte Softwareentwicklung. So werden auch riesige Programme wie Betriebssysteme oder Spiele aus vielen kleinen, zusammenarbeitenden Objekten gebaut."
   ]
  }
 ],
 "metadata": {
  "kernelspec": {
   "display_name": "Python 3",
   "language": "python",
   "name": "python3"
  },
  "language_info": {
   "codemirror_mode": {
    "name": "ipython",
    "version": 3
   },
   "file_extension": ".py",
   "mimetype": "text/x-python",
   "name": "python",
   "nbconvert_exporter": "python",
   "pygments_lexer": "ipython3",
   "version": "3.9.7"
  }
 },
 "nbformat": 4,
 "nbformat_minor": 4
}
