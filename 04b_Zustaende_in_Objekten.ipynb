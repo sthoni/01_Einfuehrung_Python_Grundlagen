{
 "cells": [
  {
   "cell_type": "markdown",
   "metadata": {},
   "source": [
    "# Vertiefung: Objekte als Zustandsautomaten\n",
    "\n",
    "Willkommen zur Vertiefungs- und Übungsstunde! Bisher haben wir Objekte als Bündel von Eigenschaften (Attributen) und Fähigkeiten (Methoden) kennengelernt. Heute wollen wir einen Schritt weitergehen und eine Verbindung zu einem Thema herstellen, das ihr bereits kennt: **endliche Automaten**.\n",
    "\n",
    "**Ziel:** Wir werden unsere `Ampel`-Klasse so umbauen, dass sie direkt einem Zustandsdiagramm folgt. Ihr werdet sehen, dass ein Objekt ein perfektes Modell für einen Automaten sein kann.\n",
    "\n",
    "---"
   ]
  },
  {
   "cell_type": "markdown",
   "metadata": {},
   "source": [
    "## 1. Rückblick: Die Ampel als Automat\n",
    "\n",
    "Erinnert ihr euch an Zustandsdiagramme? Das Verhalten einer Ampel lässt sich perfekt damit beschreiben. Der Automat hat vier Zustände und eine Aktion (`schalten`), die einen Zustandsübergang auslöst.\n",
    "\n",
    "![Zustandsdiagramm einer Ampel](https://inf-schule.de/content/7_oop/2_python/1_ampel/1_objekteklassen/6_uebungen/sd_ampel.png)\n",
    "\n",
    "Die Zustände sind:\n",
    "- `'rot'` (Anfangszustand)\n",
    "- `'rotgelb'`\n",
    "- `'gruen'`\n",
    "- `'gelb'`\n",
    "\n",
    "Bisher haben wir den Zustand durch drei `True`/`False`-Attribute gespeichert. Jetzt speichern wir den Zustand in **einem einzigen Text-Attribut**, genau wie im Diagramm!"
   ]
  },
  {
   "cell_type": "markdown",
   "metadata": {},
   "source": [
    "### Aufgabe 1: Die Ampel als Automat implementieren\n",
    "\n",
    "Gegeben ist eine neue Implementierung der Klasse `Ampel`, die den Zustand als Text speichert. Deine Aufgabe ist es, die Methoden `schalten()` und `getLampen()` zu vervollständigen.\n",
    "\n",
    "**Anleitung:**\n",
    "1.  **Vervollständige die `schalten()`-Methode:** Sorge mit `if/elif/...` dafür, dass der `self.zustand` korrekt zum nächsten Zustand wechselt (siehe Diagramm).\n",
    "2.  **Vervollständige die `getLampen()`-Methode:** Diese Methode soll den aktuellen Zustand (`self.zustand`) \"übersetzen\". Sie soll ein Tupel aus drei `True`/`False`-Werten zurückgeben, das angibt, welche Lampen leuchten.\n",
    "    - `'rot'` -> `(True, False, False)`\n",
    "    - `'rotgelb'` -> `(True, True, False)`\n",
    "    - ...und so weiter."
   ]
  },
  {
   "cell_type": "code",
   "execution_count": null,
   "metadata": {},
   "outputs": [],
   "source": [
    "class Ampel:\n",
    "    def __init__(self):\n",
    "        # Der Anfangszustand ist immer 'rot'\n",
    "        self.zustand = 'rot'\n",
    "\n",
    "    def schalten(self):\n",
    "        # TODO: Vervollständige die Logik für die Zustandsübergänge\n",
    "        if self.zustand == 'rot':\n",
    "            self.zustand = 'rotgelb'\n",
    "        # elif ... (füge die anderen Übergänge hinzu)\n",
    "        \n",
    "        \n",
    "\n",
    "    def getLampen(self):\n",
    "        # TODO: Gib basierend auf dem Zustand die Lampenkonfiguration zurück\n",
    "        if self.zustand == 'rot':\n",
    "            return (True, False, False)\n",
    "        # elif ... (füge die anderen Zustände hinzu)\n",
    "        \n",
    "        \n",
    "        # Fallback, falls ein unbekannter Zustand auftritt\n",
    "        return (False, False, False)\n",
    "    \n",
    "    def getZustand(self):\n",
    "        # Eine Hilfsmethode, um den aktuellen Zustand als Text zu bekommen\n",
    "        return self.zustand"
   ]
  },
  {
   "cell_type": "markdown",
   "metadata": {},
   "source": [
    "#### Test für Aufgabe 1\n",
    "\n",
    "Führe die Zelle aus, um deine Implementierung zu testen. Wenn alles korrekt ist, sollte die Ampel alle vier Phasen durchlaufen und die Lampen entsprechend anzeigen."
   ]
  },
  {
   "cell_type": "code",
   "execution_count": null,
   "metadata": {},
   "outputs": [],
   "source": [
    "# Test-Code (nicht verändern)\n",
    "try:\n",
    "    auto_ampel = Ampel()\n",
    "    print(\"Starte Ampelsimulation...\")\n",
    "    \n",
    "    for i in range(5):\n",
    "        zustand_text = auto_ampel.getZustand()\n",
    "        lampen = auto_ampel.getLampen()\n",
    "        print(f\"Zustand: {zustand_text:8} -> Lampen (R,G,G): {lampen}\")\n",
    "        auto_ampel.schalten()\n",
    "        \n",
    "    print(\"\\nTest erfolgreich abgeschlossen, wenn alle Phasen korrekt angezeigt wurden.\")\n",
    "except Exception as e:\n",
    "     print(f\"Ein Fehler ist aufgetreten: {e}\")"
   ]
  },
  {
   "cell_type": "markdown",
   "metadata": {},
   "source": [
    "### Aufgabe 2 (für Schnelle): Tag- und Nachtschaltung\n",
    "\n",
    "Viele Ampeln verhalten sich nachts anders: Sie blinken nur gelb. Wir erweitern unsere Klasse, um dieses Verhalten zu modellieren. Der Automat bekommt einen zweiten Betriebsmodus.\n",
    "\n",
    "**Anforderungen:**\n",
    "1.  Füge dem Konstruktor ein Attribut `self.tageszeit` hinzu. Der Anfangswert soll `'tag'` sein.\n",
    "2.  Schreibe eine neue Methode `tageszeitWechseln()`. Wenn die Tageszeit `'tag'` ist, soll sie zu `'nacht'` wechseln und umgekehrt.\n",
    "3.  Passe die `schalten()`-Methode an:\n",
    "    - Wenn `self.tageszeit == 'tag'`, soll sie sich normal verhalten.\n",
    "    - Wenn `self.tageszeit == 'nacht'`, soll sie nur zwischen `'gelb'` und `'aus'` hin- und herschalten. (Der Zustand `'aus'` muss dafür neu bedacht werden)."
   ]
  },
  {
   "cell_type": "code",
   "execution_count": null,
   "metadata": {},
   "outputs": [],
   "source": [
    "# Kopiere deine funktionierende Ampel-Klasse von oben hierher\n",
    "# und erweitere sie für die Tag- und Nachtschaltung.\n",
    "\n",
    "class TagNachtAmpel:\n",
    "    # Dein Code hier...\n",
    "    pass\n"
   ]
  },
  {
   "cell_type": "markdown",
   "metadata": {},
   "source": [
    "#### Test für Aufgabe 2\n",
    "\n",
    "Führe diesen Test-Code aus, um deine `TagNachtAmpel` zu prüfen."
   ]
  },
  {
   "cell_type": "code",
   "execution_count": null,
   "metadata": {},
   "outputs": [],
   "source": [
    "# Test-Code (nicht verändern)\n",
    "try:\n",
    "    print(\"--- Test der Tag-Schaltung ---\")\n",
    "    nacht_ampel = TagNachtAmpel()\n",
    "    for i in range(4):\n",
    "        print(f\"Zustand: {nacht_ampel.getZustand()}\")\n",
    "        nacht_ampel.schalten()\n",
    "    \n",
    "    print(\"\\n--- Wechsle zu Nacht-Schaltung ---\")\n",
    "    nacht_ampel.tageszeitWechseln()\n",
    "    for i in range(4):\n",
    "        print(f\"Zustand: {nacht_ampel.getZustand()}\")\n",
    "        nacht_ampel.schalten()\n",
    "\n",
    "except Exception as e:\n",
    "    print(f\"Ein Fehler ist aufgetreten: {e}. Hast du alle Methoden implementiert?\")"
   ]
  },
  {
   "cell_type": "markdown",
   "metadata": {},
   "source": [
    "## Fazit\n",
    "\n",
    "Sehr gut! Du hast gesehen, wie eng die Konzepte **Objekt** und **Automat** zusammenhängen. Ein Objekt kann seinen eigenen Zustand verwalten und durch Methoden die Zustandsübergänge kontrollieren. Diese Art der Modellierung ist extrem nützlich und wird in der Softwareentwicklung ständig verwendet."
   ]
  }
 ],
 "metadata": {
  "kernelspec": {
   "display_name": "Python 3",
   "language": "python",
   "name": "python3"
  },
  "language_info": {
   "codemirror_mode": {
    "name": "ipython",
    "version": 3
   },
   "file_extension": ".py",
   "mimetype": "text/x-python",
   "name": "python",
   "nbconvert_exporter": "python",
   "pygments_lexer": "ipython3",
   "version": "3.9.7"
  }
 },
 "nbformat": 4,
 "nbformat_minor": 4
}
