{
 "cells": [
  {
   "cell_type": "markdown",
   "metadata": {},
   "source": [
    "# OOP für Fortgeschrittene: Vererbung - Gleiches und doch anders\n",
    "\n",
    "Stell dir vor, du programmierst ein Rennspiel. Du brauchst Autos, Motorräder und LKWs. Alle sind Fahrzeuge und können hupen, beschleunigen und bremsen. Es wäre mühsam, diesen Code für jeden Fahrzeugtyp neu zu schreiben.\n",
    "\n",
    "Hier hilft das OOP-Prinzip der **Vererbung**. Wir definieren eine allgemeine \"Mutterklasse\" (`Fahrzeug`) und lassen spezielle \"Kinderklassen\" (`Auto`, `LKW`) deren Eigenschaften und Fähigkeiten erben.\n",
    "\n",
    "**Ziel:** Du baust eine Hierarchie von Fahrzeugen und lernst, wie man Code durch Vererbung wiederverwendet, anpasst und erweitert."
   ]
  },
  {
   "cell_type": "markdown",
   "metadata": {},
   "source": [
    "## 1. Die Mutterklasse: Das allgemeine `Fahrzeug`\n",
    "\n",
    "Wir erstellen zuerst einen Bauplan für ein ganz allgemeines Fahrzeug. Es hat eine Marke, eine aktuelle Geschwindigkeit und kann beschleunigen und bremsen.\n",
    "\n",
    "*(Didaktisches Prinzip: Shift-Enter for the win - Führe die Zelle aus, um die Basisklasse `Fahrzeug` zu erstellen.)*"
   ]
  },
  {
   "cell_type": "code",
   "execution_count": null,
   "metadata": {},
   "outputs": [],
   "source": [
    "class Fahrzeug:\n",
    "    def __init__(self, marke):\n",
    "        self.marke = marke\n",
    "        self.geschwindigkeit = 0\n",
    "        print(f\"Ein neues Fahrzeug der Marke {self.marke} wurde gebaut.\")\n",
    "        \n",
    "    def beschleunigen(self, wert):\n",
    "        self.geschwindigkeit += wert\n",
    "        print(f\"{self.marke} beschleunigt auf {self.geschwindigkeit} km/h.\")\n",
    "        \n",
    "    def bremsen(self, wert):\n",
    "        self.geschwindigkeit -= wert\n",
    "        if self.geschwindigkeit < 0:\n",
    "            self.geschwindigkeit = 0\n",
    "        print(f\"{self.marke} bremst auf {self.geschwindigkeit} km/h.\")\n",
    "        \n",
    "    def hupen(self):\n",
    "        print(\"Hup, hup!\")"
   ]
  },
  {
   "cell_type": "markdown",
   "metadata": {},
   "source": [
    "## 2. Die Kinder: `Auto` und `LKW` erben\n",
    "\n",
    "Ein `Auto` **ist ein** `Fahrzeug`. Ein `LKW` **ist ein** `Fahrzeug`. Diese \"ist-ein\"-Beziehung ist der Kern der Vererbung.\n",
    "\n",
    "*(Didaktisches Prinzip: Fill in the blanks - Du erstellst die Kinderklassen und siehst sofort, was sie alles \"geschenkt\" bekommen.)*\n",
    "\n",
    "**Deine Aufgabe:**\n",
    "1. Erstelle eine Klasse `Auto`, die von `Fahrzeug` erbt. Die Klasse selbst bleibt erstmal leer (`pass`).\n",
    "2. Erstelle ein `Auto`-Objekt und teste, ob du die geerbten Methoden (z.B. `beschleunigen`) aufrufen kannst."
   ]
  },
  {
   "cell_type": "code",
   "execution_count": null,
   "metadata": {},
   "outputs": [],
   "source": [
    "# TODO: Definiere die Klasse Auto, die von Fahrzeug erbt.\n",
    "# Die Syntax dafür ist: class KlassenName(MutterKlasse):\n",
    "class Auto(Fahrzeug):\n",
    "    pass # pass bedeutet \"hier steht nichts\", ist aber eine gültige Klasse\n",
    "\n",
    "# --- Test-Code ---\n",
    "print(\"--- Teste das Auto-Objekt ---\")\n",
    "mein_golf = Auto(\"VW Golf\")\n",
    "mein_golf.beschleunigen(50)\n",
    "mein_golf.hupen()\n",
    "mein_golf.bremsen(20)"
   ]
  },
  {
   "cell_type": "markdown",
   "metadata": {},
   "source": [
    "## 3. Spezialisierung: Methoden überschreiben und erweitern\n",
    "\n",
    "Vererbung wäre langweilig, wenn die Kinder alles nur 1:1 kopieren. Ihre Stärke liegt in der Spezialisierung.\n",
    "- **Methoden überschreiben:** Ein Kind kann eine geerbte Methode durch eine eigene Version ersetzen.\n",
    "- **Attribute erweitern:** Ein Kind kann neue Attribute hinzufügen, die die Mutter nicht hat.\n",
    "\n",
    "*(Didaktisches Prinzip: Target Practice - Du passt gezielt das Verhalten und die Eigenschaften der Kinderklasse an.)*\n",
    "\n",
    "**Deine Aufgabe:**\n",
    "1. Erstelle eine Klasse `LKW`, die von `Fahrzeug` erbt.\n",
    "2. **Überschreibe** die `hupen`-Methode, sodass sie `\"TRÖÖÖÖT!\"` ausgibt.\n",
    "3. **Erweitere** den `__init__`-Konstruktor. Er soll zusätzlich das Attribut `ladeflaeche` (in qm) speichern."
   ]
  },
  {
   "cell_type": "code",
   "execution_count": null,
   "metadata": {},
   "outputs": [],
   "source": [
    "# TODO: Definiere die Klasse LKW\n",
    "class LKW(Fahrzeug):\n",
    "    # TODO: Erweitere den Konstruktor\n",
    "    def __init__(self, marke, ladeflaeche):\n",
    "        # Wichtig: Wir müssen zuerst den Konstruktor der Mutterklasse aufrufen!\n",
    "        super().__init__(marke)\n",
    "        self.ladeflaeche = ladeflaeche\n",
    "        print(f\"Der LKW hat eine Ladefläche von {self.ladeflaeche} qm.\")\n",
    "    \n",
    "    # TODO: Überschreibe die hupen-Methode\n",
    "    def hupen(self):\n",
    "        print(\"TRÖÖÖÖT!\")"
   ]
  },
  {
   "cell_type": "markdown",
   "metadata": {},
   "source": [
    "#### Test für den LKW\n",
    "\n",
    "Führe die Zelle aus, um zu sehen, ob dein LKW korrekt erstellt wird und anders hupt."
   ]
  },
  {
   "cell_type": "code",
   "execution_count": null,
   "metadata": {},
   "outputs": [],
   "source": [
    "# --- Test-Code ---\n",
    "print(\"\\n--- Teste das LKW-Objekt ---\")\n",
    "mein_lkw = LKW(\"MAN\", 50)\n",
    "mein_lkw.beschleunigen(30)\n",
    "mein_lkw.hupen() # Sollte jetzt anders klingen!\n",
    "print(f\"Ladefläche: {mein_lkw.ladeflaeche} qm\")"
   ]
  },
  {
   "cell_type": "markdown",
   "metadata": {},
   "source": [
    "## Klasse!\n",
    "\n",
    "Du hast heute eines der mächtigsten Konzepte der OOP gelernt. Mit Vererbung kannst du logische Hierarchien abbilden, Code sauber organisieren und musst nicht alles doppelt und dreifach schreiben. Dieses Prinzip findest du in allen großen Programmen wieder."
   ]
  }
 ],
 "metadata": {
  "kernelspec": {
   "display_name": "Python 3",
   "language": "python",
   "name": "python3"
  },
  "language_info": {
   "codemirror_mode": {
    "name": "ipython",
    "version": 3
   },
   "file_extension": ".py",
   "mimetype": "text/x-python",
   "name": "python",
   "nbconvert_exporter": "python",
   "pygments_lexer": "ipython3",
   "version": "3.9.7"
  }
 },
 "nbformat": 4,
 "nbformat_minor": 4
}
