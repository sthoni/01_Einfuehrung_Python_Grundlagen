{
 "cells": [
  {
   "cell_type": "markdown",
   "id": "b8daa5ac-eb92-4b39-bd92-7966f51727b5",
   "metadata": {},
   "source": [
    "# Willkommen zu Jupyter Notebooks und Python!\n",
    "\n",
    "Hallo! In diesem Notebook lernst du die Grundlagen von Jupyter Notebooks und der Programmiersprache Python kennen.\n",
    "\n",
    "**Was ist ein Jupyter Notebook?**\n",
    "Ein Jupyter Notebook ist wie ein interaktives Notizbuch. Es besteht aus verschiedenen **Zellen**.\n",
    "* **Text-Zellen** (wie diese hier!) enthalten Erklärungen, Bilder oder Aufgaben. Sie sind in einer einfachen Sprache namens \"Markdown\" geschrieben.\n",
    "* **Code-Zellen** enthalten Programmcode (in unserem Fall Python), den wir direkt ausführen können.\n",
    "\n",
    "**Wie führe ich eine Zelle aus?**\n",
    "Klicke in eine Zelle und drücke dann die Tastenkombination `Shift + Enter`. Probier es gleich mal mit der nächsten Zelle aus!"
   ]
  },
  {
   "cell_type": "code",
   "execution_count": null,
   "id": "ef8fdacb-7707-409f-b8cb-f79df9bf17a7",
   "metadata": {},
   "outputs": [],
   "source": [
    "# Das ist eine Code-Zelle!\n",
    "# Text hinter einem '#' ist ein Kommentar und wird vom Computer ignoriert.\n",
    "# Er dient uns Menschen zur Erklärung.\n",
    "\n",
    "# Der Befehl print() gibt etwas auf dem Bildschirm aus.\n",
    "print(\"Hallo Welt! Ich bin eine Code-Zelle.\")\n",
    "print(\"Ich wurde gerade mit Shift + Enter ausgeführt.\")"
   ]
  },
  {
   "cell_type": "markdown",
   "id": "d7a0611f-d465-4a31-9b4a-38fa0fa355fb",
   "metadata": {},
   "source": [
    "Super! Du hast gerade deinen ersten Python-Code ausgeführt.\n",
    "\n",
    "**Aufgabe 1: Ändere die Begrüßung!**\n",
    "Klicke in die Code-Zelle oben. Ändere den Text \"Hallo Welt! Ich bin eine Code-Zelle.\" in eine eigene Begrüßung (z.B. \"Hallo von [Dein Name]\"). Führe die Zelle dann erneut mit `Shift + Enter` aus.\n",
    "Siehst du deine geänderte Ausgabe?"
   ]
  },
  {
   "cell_type": "markdown",
   "id": "56db8509-4ae2-445f-bbac-593c296239c6",
   "metadata": {},
   "source": [
    "## Python als Taschenrechner\n",
    "\n",
    "Python kann auch super rechnen! Probier die folgenden Beispiele aus, indem du jede Zelle einzeln mit `Shift + Enter` ausführst."
   ]
  },
  {
   "cell_type": "code",
   "execution_count": null,
   "id": "7a6373aa-3429-4ff0-9300-a4dae5bfdd07",
   "metadata": {},
   "outputs": [],
   "source": [
    "# Addition\n",
    "2 + 2"
   ]
  },
  {
   "cell_type": "code",
   "execution_count": null,
   "id": "16d34785-890b-4bdd-85e3-f543bf88dbe1",
   "metadata": {},
   "outputs": [],
   "source": [
    "# Subtraktion\n",
    "10 - 5.5"
   ]
  },
  {
   "cell_type": "code",
   "execution_count": null,
   "id": "11b93e72-2ef1-46d7-9e9a-d0799be84644",
   "metadata": {},
   "outputs": [],
   "source": [
    "# Multiplikation\n",
    "3 * 7"
   ]
  },
  {
   "cell_type": "code",
   "execution_count": null,
   "id": "f66ec865-eac1-4893-b149-d9228edc08a4",
   "metadata": {},
   "outputs": [],
   "source": [
    "# Division\n",
    "10 / 2 # Was passiert, wenn du 10 / 3 rechnest? Probier es aus!"
   ]
  },
  {
   "cell_type": "markdown",
   "id": "1ec04791-13ee-400c-a8cf-8d0e9ba03e57",
   "metadata": {},
   "source": [
    "**Aufgabe 2: Eigene Rechnungen**\n",
    "Füge unter dieser Zelle eine neue Code-Zelle hinzu (oft über ein `+`-Symbol in der Werkzeugleiste oder im Menü \"Einfügen\" -> \"Zelle darunter einfügen\").\n",
    "Schreibe dort eigene Rechenaufgaben und lasse Python sie lösen!\n",
    "Beispiele:\n",
    "* `123 + 456 - 78`\n",
    "* `(5 + 3) * 2` (Klammern funktionieren auch!)"
   ]
  },
  {
   "cell_type": "markdown",
   "id": "734816cf-13fb-4e7b-a107-94bbe11b5e05",
   "metadata": {},
   "source": [
    "## Variablen: Speicherplätze für Daten\n",
    "\n",
    "Stell dir Variablen wie Kisten vor, in denen du Informationen (Zahlen, Text, etc.) aufbewahren kannst. Jede Kiste hat einen Namen (den Variablennamen).\n",
    "\n",
    "Mit dem Gleichheitszeichen `=` weist du einer Variablen einen Wert zu."
   ]
  },
  {
   "cell_type": "code",
   "execution_count": null,
   "id": "a430fcd2-3403-4e6b-b92a-844b99b18a1f",
   "metadata": {},
   "outputs": [],
   "source": [
    "# Wir erstellen eine Variable namens 'alter' und speichern die Zahl 15 darin.\n",
    "alter = 15\n",
    "\n",
    "# Wir erstellen eine Variable namens 'name' und speichern den Text \"Ada\" darin.\n",
    "# Text (Strings genannt) muss in Anführungszeichen stehen.\n",
    "name = \"Ada\"\n",
    "\n",
    "# Jetzt geben wir den Inhalt der Variablen aus:\n",
    "print(name)\n",
    "print(alter)"
   ]
  },
  {
   "cell_type": "code",
   "execution_count": null,
   "id": "c866e4c3-6b9a-4c47-b325-c85f613281ef",
   "metadata": {},
   "outputs": [],
   "source": [
    "# Wir können auch mit Variablen rechnen:\n",
    "preis_apfel = 0.50 # Preis in Euro\n",
    "anzahl_aepfel = 6\n",
    "\n",
    "gesamtkosten = preis_apfel * anzahl_aepfel\n",
    "\n",
    "print(\"Anzahl der Äpfel:\", anzahl_aepfel)\n",
    "print(\"Gesamtkosten:\", gesamtkosten, \"Euro\")"
   ]
  },
  {
   "cell_type": "markdown",
   "id": "2ee4ec61-b9cd-432a-90c0-84a0346b1a1f",
   "metadata": {},
   "source": [
    "**Aufgabe 3: Deine Daten**\n",
    "Vervollständige den folgenden Code. Ersetze die `____` mit deinen eigenen Informationen oder Werten.\n",
    "Führe die Zelle danach aus!"
   ]
  },
  {
   "cell_type": "code",
   "execution_count": null,
   "id": "18531b6d-6bb7-4d0c-a731-340d8dfdb5cc",
   "metadata": {
    "editable": true,
    "slideshow": {
     "slide_type": ""
    },
    "tags": []
   },
   "outputs": [],
   "source": [
    "# Dein Code hier:\n",
    "mein_name = \"____\"  # Trage deinen Vornamen ein\n",
    "mein_alter = \"____\"     # Trage dein Alter als Zahl ein\n",
    "lieblingszahl = \"____\"  # Trage deine Lieblingszahl ein\n",
    "\n",
    "# Diese Zeilen geben deine Daten aus\n",
    "print(\"Hallo, mein Name ist:\", mein_name)\n",
    "print(\"Ich bin\", mein_alter, \"Jahre alt.\")\n",
    "print(\"Meine absolute Lieblingszahl ist:\", lieblingszahl * 2, \"(Das ist deine Lieblingszahl mal zwei!)\")"
   ]
  },
  {
   "cell_type": "markdown",
   "id": "d2b460d4-7d09-47f2-bd07-fef5cde8d97d",
   "metadata": {},
   "source": [
    "## Mit dem Benutzer sprechen: Die `input()`-Funktion\n",
    "\n",
    "Manchmal soll dein Programm den Benutzer nach einer Eingabe fragen. Das geht mit der Funktion `input()`.\n",
    "Die Eingabe des Benutzers wird immer als Text (String) gespeichert."
   ]
  },
  {
   "cell_type": "code",
   "execution_count": null,
   "id": "f86b329a-b243-41e0-ad2a-21b21accbf9a",
   "metadata": {},
   "outputs": [],
   "source": [
    "print(\"Wie ist dein Name?\")\n",
    "benutzer_name = input() # Wartet hier auf deine Eingabe in einem kleinen Feld unter der Zelle\n",
    "\n",
    "print(\"Hallo,\", benutzer_name, \"! Schön, dich kennenzulernen.\")"
   ]
  },
  {
   "cell_type": "code",
   "execution_count": null,
   "id": "351f34c2-54a2-4c41-9f79-db98153173d5",
   "metadata": {},
   "outputs": [],
   "source": [
    "# Man kann den Fragetext auch direkt in die input()-Klammern schreiben:\n",
    "lieblingsfarbe = input(\"Was ist deine Lieblingsfarbe? \")\n",
    "print(lieblingsfarbe, \"ist eine tolle Farbe!\")"
   ]
  },
  {
   "cell_type": "markdown",
   "id": "a0576a8e-c4be-487c-b1d9-f260ff488dd2",
   "metadata": {},
   "source": [
    "**Mini-Projekt zum Abschluss von Einheit 1:**\n",
    "\n",
    "**Aufgabe 4: Der kleine Einkaufsrechner**\n",
    "Schreibe ein Programm, das:\n",
    "1.  Den Benutzer fragt, wie viele Bananen er kaufen möchte.\n",
    "2.  Den Benutzer fragt, was eine Banane kostet.\n",
    "3.  Berechnet, wie viel der Einkauf insgesamt kostet.\n",
    "4.  Das Ergebnis freundlich ausgibt.\n",
    "\n",
    "**Tipp:** Die Eingabe von `input()` ist Text. Um damit zu rechnen, musst du sie in eine Zahl umwandeln.\n",
    "* `int(TEXT)` wandelt Text in eine ganze Zahl um (z.B. `int(\"5\")` wird zu `5`).\n",
    "* `float(TEXT)` wandelt Text in eine Kommazahl um (z.B. `float(\"2.5\")` wird zu `2.5`).\n",
    "\n",
    "**Pädagogisches Muster (Buch, Kap. 4.3 & 4.4): \"Fill in the blanks\" / \"Target Practice\"**\n",
    "Hier ist ein Gerüst. Vervollständige die fehlenden Teile (`____`)!"
   ]
  },
  {
   "cell_type": "code",
   "execution_count": null,
   "id": "443e23d6-188e-4c5a-b12e-beb65dc4dd95",
   "metadata": {},
   "outputs": [],
   "source": [
    "# Dein Code für den Einkaufsrechner:\n",
    "\n",
    "# 1. Fragen, wie viele Bananen gekauft werden sollen\n",
    "anzahl_text = input(\"Wie viele Bananen möchtest du kaufen? \")\n",
    "anzahl_bananen = ____(anzahl_text) # Wandle den Text in eine ganze Zahl um\n",
    "\n",
    "# 2. Fragen, was eine Banane kostet\n",
    "preis_text = input(\"Was kostet eine Banane (z.B. 0.40)? \")\n",
    "preis_pro_banane = ____(preis_text) # Wandle den Text in eine Kommazahl um\n",
    "\n",
    "# 3. Gesamtkosten berechnen\n",
    "gesamtkosten_einkauf = anzahl_bananen * ____\n",
    "\n",
    "# 4. Ergebnis ausgeben\n",
    "print(\"Okay,\", anzahl_bananen, \"Bananen kosten insgesamt\", gesamtkosten_einkauf, \"Euro.\")\n",
    "print(\"Guten Appetit!\")"
   ]
  },
  {
   "cell_type": "markdown",
   "id": "4dff7510-a7c1-46e5-8b8e-72e5c8e9aaa6",
   "metadata": {},
   "source": [
    "Klasse gemacht! Das waren deine ersten Schritte mit Python in Jupyter Notebooks."
   ]
  }
 ],
 "metadata": {
  "kernelspec": {
   "display_name": "Python 3 (ipykernel)",
   "language": "python",
   "name": "python3"
  },
  "language_info": {
   "codemirror_mode": {
    "name": "ipython",
    "version": 3
   },
   "file_extension": ".py",
   "mimetype": "text/x-python",
   "name": "python",
   "nbconvert_exporter": "python",
   "pygments_lexer": "ipython3",
   "version": "3.12.6"
  }
 },
 "nbformat": 4,
 "nbformat_minor": 5
}
